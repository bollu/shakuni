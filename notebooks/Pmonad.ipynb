{
 "cells": [
  {
   "cell_type": "markdown",
   "metadata": {},
   "source": [
    "# Haskell koan: probabilstic programming in < 100 LoC\n",
    "\n",
    "Let us begin with our incantations to GHC:"
   ]
  },
  {
   "cell_type": "code",
   "execution_count": 18,
   "metadata": {},
   "outputs": [],
   "source": [
    "{-# LANGUAGE GADTs #-}\n",
    "import Control.Monad (ap)"
   ]
  },
  {
   "cell_type": "markdown",
   "metadata": {},
   "source": [
    "First, we create a new monad called `P`, for *probability*.\n",
    "It supports only two operations:\n",
    "- `Ret` to convert a pure value into a `P` value,\n",
    "- `Sample01` to sample from a distribution.\n",
    "\n",
    "We encode the monad in CPS style to get a monad instance for-free. For more\n",
    "modularity, use the free monad technique."
   ]
  },
  {
   "cell_type": "code",
   "execution_count": 19,
   "metadata": {},
   "outputs": [],
   "source": [
    "data P a where\n",
    "  Ret :: a -> P a -- ^ life a pure value\n",
    "  Sample01 :: (Float -> P a) -> P a -- ^ use a float uniformly sampled from [0, 1]\n",
    "  \n",
    "instance Functor P where\n",
    "  fmap f (Ret x) = Ret (f x)\n",
    "  fmap f (Sample01 rand2pa) = Sample01 $ \\r -> fmap f (rand2pa r)\n",
    "  \n",
    "instance Monad P where\n",
    "  return = Ret\n",
    "  Ret a >>= a2pb = a2pb a\n",
    "  Sample01 r2pa >>= a2pb = Sample01 $ \\r -> r2pa r >>= a2pb\n",
    "\n",
    "instance Applicative P where\n",
    "  pure = return\n",
    "  (<*>) = ap"
   ]
  },
  {
   "cell_type": "code",
   "execution_count": null,
   "metadata": {},
   "outputs": [],
   "source": []
  }
 ],
 "metadata": {
  "kernelspec": {
   "display_name": "Haskell",
   "language": "haskell",
   "name": "haskell"
  },
  "language_info": {
   "codemirror_mode": "ihaskell",
   "file_extension": ".hs",
   "name": "haskell",
   "pygments_lexer": "Haskell",
   "version": "8.6.5"
  }
 },
 "nbformat": 4,
 "nbformat_minor": 2
}
