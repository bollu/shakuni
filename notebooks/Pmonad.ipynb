{
 "cells": [
  {
   "cell_type": "markdown",
   "metadata": {},
   "source": [
    "# Haskell koan: probabilstic programming in < 100 LoC\n",
    "\n",
    "Let us begin with our incantations to GHC:"
   ]
  },
  {
   "cell_type": "code",
   "execution_count": 1,
   "metadata": {},
   "outputs": [],
   "source": [
    "{-# LANGUAGE GADTs #-}\n",
    "import Control.Monad (ap, replicateM)\n",
    "import System.Random (getStdGen, getStdRandom, randomR)\n",
    "import qualified Data.Map as M"
   ]
  },
  {
   "cell_type": "markdown",
   "metadata": {},
   "source": [
    "First, we create a new monad called `P`, for *probability*.\n",
    "It supports only two operations:\n",
    "- `Ret` to convert a pure value into a `P` value,\n",
    "- `Sample01` to sample from a distribution.\n",
    "\n",
    "We encode the monad in CPS style to get a monad instance for-free. For more\n",
    "modularity, use the free monad technique."
   ]
  },
  {
   "cell_type": "code",
   "execution_count": 2,
   "metadata": {},
   "outputs": [],
   "source": [
    "data P a where\n",
    "  Ret :: a -> P a -- ^ life a pure value\n",
    "  Sample01 :: (Float -> P a) -> P a -- ^ use a float uniformly sampled from [0, 1]\n",
    "  \n",
    "instance Functor P where\n",
    "  fmap f (Ret x) = Ret (f x)\n",
    "  fmap f (Sample01 rand2pa) = Sample01 $ \\r -> fmap f (rand2pa r)\n",
    "  \n",
    "instance Monad P where\n",
    "  return = Ret\n",
    "  Ret a >>= a2pb = a2pb a\n",
    "  Sample01 r2pa >>= a2pb = Sample01 $ \\r -> r2pa r >>= a2pb\n",
    "\n",
    "instance Applicative P where\n",
    "  pure = return\n",
    "  (<*>) = ap\n",
    "  \n",
    "sample01 :: P Float\n",
    "sample01 = Sample01 Ret"
   ]
  },
  {
   "cell_type": "markdown",
   "metadata": {},
   "source": [
    "Now that we have a way to build expressions in this language, let's build interesting objects from this.\n",
    "We start with a coin, and then we use the coin to approximate a normal distribution by adding many coins."
   ]
  },
  {
   "cell_type": "code",
   "execution_count": 3,
   "metadata": {},
   "outputs": [],
   "source": [
    "-- | 'coin b' returns 1 with probability p, 0 with probability (1 - p) \n",
    "coin :: Num a => Float -> P a\n",
    "coin p = do\n",
    "  r <- sample01\n",
    "  return $ if r < p then 1 else 0\n",
    "  \n",
    "-- | approximate a normal distribution using the central limit theorem by adding many\n",
    "-- uniformly distributed {0, 1} variables. Here, mean = 1\n",
    "normal :: (Fractional a, Num a) => P a \n",
    "normal = do\n",
    "  as <- replicateM 10 (coin 0.5)\n",
    "  return $ sum as / 5"
   ]
  },
  {
   "cell_type": "markdown",
   "metadata": {},
   "source": [
    "We need a way to run our computation and plot its values, so let's build that capability"
   ]
  },
  {
   "cell_type": "code",
   "execution_count": 4,
   "metadata": {},
   "outputs": [],
   "source": [
    "-- | Sample a random value from a `P a`\n",
    "runP :: P a -> IO a\n",
    "runP (Ret a) = return a\n",
    "runP (Sample01 rand2pa) = do\n",
    "  r <- getStdRandom $ randomR (0, 1)\n",
    "  runP (rand2pa r)\n",
    "\n",
    "-- | Sample `n` random values from a `P a`\n",
    "runsP :: Int -> P a -> IO [a]\n",
    "runsP n p = replicateM n (runP p)"
   ]
  },
  {
   "cell_type": "markdown",
   "metadata": {},
   "source": [
    "Let's also write a tiny utility to plot these values onto the command line with fancy ASCII art.\n",
    "Notice that this will take us more code than everything we have done so far"
   ]
  },
  {
   "cell_type": "code",
   "execution_count": 5,
   "metadata": {},
   "outputs": [],
   "source": [
    "-- | List of characters that represent sparklines\n",
    "sparkchars :: String\n",
    "sparkchars = \"_▁▂▃▄▅▆▇█\"\n",
    "\n",
    "-- Convert an int to a sparkline character\n",
    "num2spark :: RealFrac a => a -- ^ Max value\n",
    "  -> a -- ^ Current value\n",
    "  -> Char\n",
    "num2spark maxv curv =\n",
    "   sparkchars !!\n",
    "     (floor $ (curv / maxv) * (fromIntegral (length sparkchars - 1)))\n",
    "\n",
    "-- | Print sparklines with title\n",
    "printvals :: RealFrac a => String -> [a] -> IO ()\n",
    "printvals title vs = do \n",
    "  let maxv = if null vs then 0 else maximum vs\n",
    "  putStrLn $ title ++ \" \" ++ map (num2spark maxv) vs\n",
    "  \n",
    "  -- | Create a histogram from values.\n",
    "histogram :: RealFrac a\n",
    "          => String -- ^ title\n",
    "          -> Int -- ^ number of buckets\n",
    "          -> [a] -- values\n",
    "          -> IO ()\n",
    "histogram title nbuckets as = do\n",
    "        let minv = minimum as\n",
    "        let maxv = maximum as\n",
    "        let perbucket = (maxv - minv) / (fromIntegral nbuckets)\n",
    "        let bucket v = floor (v / perbucket)\n",
    "        let bucketed = foldl (\\m v -> M.insertWith (+) (bucket v) 1 m) mempty as\n",
    "        printvals title $ map snd . M.toList $ bucketed"
   ]
  },
  {
   "cell_type": "markdown",
   "metadata": {},
   "source": [
    "We now have all the pieces we need to experiment!"
   ]
  },
  {
   "cell_type": "code",
   "execution_count": 6,
   "metadata": {},
   "outputs": [
    {
     "data": {
      "text/plain": [
       "bias 0 ____________________"
      ]
     },
     "metadata": {},
     "output_type": "display_data"
    },
    {
     "data": {
      "text/plain": [
       "bias 0.2 _____█_____________█"
      ]
     },
     "metadata": {},
     "output_type": "display_data"
    },
    {
     "data": {
      "text/plain": [
       "bias 0.5 __████_██___█████_█_"
      ]
     },
     "metadata": {},
     "output_type": "display_data"
    },
    {
     "data": {
      "text/plain": [
       "bias 0.8 ██_████_███__███__██"
      ]
     },
     "metadata": {},
     "output_type": "display_data"
    },
    {
     "data": {
      "text/plain": [
       "bias 1 ████████████████████"
      ]
     },
     "metadata": {},
     "output_type": "display_data"
    },
    {
     "data": {
      "text/plain": [
       "normal __▂▃█▁___"
      ]
     },
     "metadata": {},
     "output_type": "display_data"
    }
   ],
   "source": [
    "runsP 20 (coin 0) >>=  printvals \"bias 0\"\n",
    "runsP 20 (coin 0.2) >>=  printvals \"bias 0.2\"\n",
    "runsP 20 (coin 0.5) >>=  printvals \"bias 0.5\"\n",
    "runsP 20 (coin 0.8) >>=  printvals \"bias 0.8\"\n",
    "runsP 20 (coin 1) >>=  printvals \"bias 1\"\n",
    "runsP 1000 normal >>= histogram \"normal\" 10 "
   ]
  },
  {
   "cell_type": "markdown",
   "metadata": {},
   "source": [
    "So, we can create coins, gaussians, and whatever we want _from the building block of a uniform distribution_.\n",
    "However, we still don't have a way to take samples from _arbitrary distributions_. What if we want\n",
    "to sample from a distribution of the form `p(x) = x^{-2}`? Enter MCMC."
   ]
  },
  {
   "cell_type": "code",
   "execution_count": 7,
   "metadata": {},
   "outputs": [],
   "source": [
    "-- | take a sampler and create a new probabilstic value, which samples from the original\n",
    "-- based on the score values (Metropolis-Hastings)\n",
    "mhStep :: (a -> Float) -- ^ score function\n",
    "   -> (a -> P a) -- ^ proposal: given a value, provide values around that value\n",
    "   -> a -- ^ current value\n",
    "   -> P a -- ^ next value\n",
    "mhStep scoring proposer a = do\n",
    " a' <- proposer a\n",
    " let accept = scoring a' / scoring a\n",
    " u <- sample01\n",
    " return $ if u < accept then a' else a\n",
    "\n",
    "-- | Take N steps of metropolois-hastings\n",
    "mhSteps :: Int -> (a -> Float) -> (a -> P a) -> a -> P a\n",
    "mhSteps 0 _ _ a = return a\n",
    "mhSteps n scoring proposer a = mhStep scoring proposer a >>= mhSteps (n - 1) scoring proposer\n",
    "\n",
    "\n",
    "sampleFloatUniform :: Float -> Float ->  P Float\n",
    "sampleFloatUniform l h = do\n",
    "  u <- sample01\n",
    "  return $ l + u * (h - l)\n",
    "  \n",
    "-- | Generate samples for a numeric type printvals given a scoring function\n",
    "-- using metropolis hastings\n",
    "mhFloat :: (Float, Float) -> (Float -> Float) -> P Float\n",
    "mhFloat (lo, hi) scorer = mhSteps 10 scorer (const $ sampleFloatUniform lo hi) 0.5"
   ]
  },
  {
   "cell_type": "markdown",
   "metadata": {},
   "source": [
    "Let's now check if this works! If it does work, then our histograms should look like the functions that we are plotting, since the function we pass to `mhFloat` is the probability density that we wish to sample from."
   ]
  },
  {
   "cell_type": "code",
   "execution_count": 8,
   "metadata": {},
   "outputs": [
    {
     "data": {
      "text/plain": [
       "uniform ▇▇▆▆▇▆▆▆▇█▅▇▆▆▆▆▆▆▅▆_"
      ]
     },
     "metadata": {},
     "output_type": "display_data"
    },
    {
     "data": {
      "text/plain": [
       "x^2 ______▁▁▁▂▂▂▃▄▄▅▅▆█_"
      ]
     },
     "metadata": {},
     "output_type": "display_data"
    },
    {
     "data": {
      "text/plain": [
       "|sin x| ▁▂▄▅▆▆▇▅▃▂_▂▃▅▅█▅▇▅▄▁"
      ]
     },
     "metadata": {},
     "output_type": "display_data"
    },
    {
     "data": {
      "text/plain": [
       "|cos x| ▇▅▄▃▁▁▂▄▄▇▆█▅▄▂_▁▂▅▆_"
      ]
     },
     "metadata": {},
     "output_type": "display_data"
    }
   ],
   "source": [
    "runsP 1000 (mhFloat (0, 6) (const 1.0)) >>= histogram \"uniform\" 20\n",
    "runsP 1000 (mhFloat (0, 6) (^2)) >>= histogram \"x^2\" 20\n",
    "runsP 1000 (mhFloat (0, 6) (abs . sin)) >>= histogram \"|sin x|\" 20\n",
    "runsP 1000 (mhFloat (0, 6) (abs . cos)) >>= histogram \"|cos x|\" 20"
   ]
  },
  {
   "cell_type": "markdown",
   "metadata": {},
   "source": [
    "Great, all of them seem to work. Let's now use similar ideas to estimate the bias of a coin."
   ]
  },
  {
   "cell_type": "code",
   "execution_count": 9,
   "metadata": {},
   "outputs": [
    {
     "data": {
      "text/plain": [
       "estimate with no data ▅▆▇▄▅▇▆▆▅▆▅▅▇▅▅▆▅▅█▆_"
      ]
     },
     "metadata": {},
     "output_type": "display_data"
    },
    {
     "data": {
      "text/plain": [
       "estimate with [1] __▁▁▂▁▂▃▃▃▄▄▅▆▅▇▆▇▅█▁"
      ]
     },
     "metadata": {},
     "output_type": "display_data"
    },
    {
     "data": {
      "text/plain": [
       "estimate with [0] ▇▆▇█▇▅▅▅▅▅▄▃▃▂▂▁▂▁___"
      ]
     },
     "metadata": {},
     "output_type": "display_data"
    },
    {
     "data": {
      "text/plain": [
       "estimate with [0, 1] ▁▂▃▃▃▅▄▆▅▄█▇▆▆▆▄▄▃▂▁_"
      ]
     },
     "metadata": {},
     "output_type": "display_data"
    },
    {
     "data": {
      "text/plain": [
       "estimate with [1, 0] _▁▄▃▄▅▆▅▇█▇▆▅▆▅▅▄▃▂▁_"
      ]
     },
     "metadata": {},
     "output_type": "display_data"
    },
    {
     "data": {
      "text/plain": [
       "estimate with [1, 0]x2 ___▁▃▃▅▆▅█▇▇▅▆▆▆▃▂▁▁_"
      ]
     },
     "metadata": {},
     "output_type": "display_data"
    },
    {
     "data": {
      "text/plain": [
       "estimate with [1, 0]x8 __▁▂▂▄▅▆▆█▇▄▄▃▂▂▁___"
      ]
     },
     "metadata": {},
     "output_type": "display_data"
    },
    {
     "data": {
      "text/plain": [
       "estimate with [1, 0]x20 ___▁▂▂▂▃█▄▃▂▂▁_____"
      ]
     },
     "metadata": {},
     "output_type": "display_data"
    }
   ],
   "source": [
    "-- | Given a list of observations from a coin and the bias, return a value proportional\n",
    "-- to the coin having that bias\n",
    "estimateBias :: [Int] -> Float -> Float\n",
    "estimateBias obs bias = \n",
    "  product $ (map (\\o -> if o == 1 then bias else (1 - bias)) obs)\n",
    "\n",
    "replicateList :: Int -> [a] -> [a]\n",
    "replicateList n as = mconcat $ replicate n as \n",
    "\n",
    "runsP 1000 (mhFloat (0, 1) $ estimateBias []) >>= histogram \"estimate with no data\" 20\n",
    "runsP 1000 (mhFloat (0, 1) $ estimateBias [1]) >>= histogram \"estimate with [1]\" 20\n",
    "runsP 1000 (mhFloat (0, 1) $ estimateBias [0]) >>= histogram \"estimate with [0]\" 20\n",
    "runsP 1000 (mhFloat (0, 1) $ estimateBias [0, 1]) >>= histogram \"estimate with [0, 1]\" 20\n",
    "runsP 1000 (mhFloat (0, 1) $ estimateBias [1, 0]) >>= histogram \"estimate with [1, 0]\" 20\n",
    "runsP 1000 (mhFloat (0, 1) $ estimateBias [1, 0, 1, 0]) >>= histogram \"estimate with [1, 0]x2\" 20\n",
    "runsP 1000 (mhFloat (0, 1) $ estimateBias (replicateList 8 [1, 0])) >>= histogram \"estimate with [1, 0]x8\" 20\n",
    "runsP 1000 (mhFloat (0, 1) $ estimateBias (replicateList 20 [1, 0])) >>= histogram \"estimate with [1, 0]x20\" 20"
   ]
  }
 ],
 "metadata": {
  "kernelspec": {
   "display_name": "Haskell",
   "language": "haskell",
   "name": "haskell"
  },
  "language_info": {
   "codemirror_mode": "ihaskell",
   "file_extension": ".hs",
   "name": "haskell",
   "pygments_lexer": "Haskell",
   "version": "8.6.5"
  }
 },
 "nbformat": 4,
 "nbformat_minor": 2
}
